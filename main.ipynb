{
 "cells": [
  {
   "cell_type": "markdown",
   "id": "230798c9-2711-47d3-8ad2-cbb5c9ab8385",
   "metadata": {},
   "source": [
    "Import build in module urllib."
   ]
  },
  {
   "cell_type": "code",
   "execution_count": 1,
   "id": "f9fb2b59-9f25-46fc-8140-6a38f24ecc1d",
   "metadata": {},
   "outputs": [],
   "source": [
    "import urllib.request\n",
    "from bs4 import BeautifulSoup"
   ]
  },
  {
   "cell_type": "markdown",
   "id": "7981344c-d97f-452e-b615-8648e783f08b",
   "metadata": {},
   "source": [
    "__init__ use a website to extract as a parameter\n",
    "Scraper class have a method called scrape that will be called everytime retrieving data"
   ]
  },
  {
   "cell_type": "code",
   "execution_count": 3,
   "id": "97165c66-eee4-4e2a-ace5-039670f4d00a",
   "metadata": {},
   "outputs": [],
   "source": [
    "class Scraper:\n",
    "    def __init__(self, site):\n",
    "        self.site = site"
   ]
  },
  {
   "cell_type": "code",
   "execution_count": null,
   "id": "7b157903-b273-4bed-8b87-eaa5daf4d39f",
   "metadata": {},
   "outputs": [],
   "source": [
    "def scrape(self)\n",
    "    r = urllib.request.urlopen(self.site)\n",
    "    html = r.read()"
   ]
  },
  {
   "cell_type": "markdown",
   "id": "566bead1-4fb7-4634-9481-9080320388ab",
   "metadata": {},
   "source": [
    "urlopen() returns a Response object from HTML code along with additional data. \n",
    "function.read() returns the HTML of the Response object. "
   ]
  },
  {
   "cell_type": "markdown",
   "id": "da5d2013-fae3-4e4a-a21e-2de4bc870cf8",
   "metadata": {},
   "source": [
    "BeautifulSoup object pass the html variable and the \"html.parser\" string as a parameter."
   ]
  },
  {
   "cell_type": "code",
   "execution_count": null,
   "id": "74b5a74d-ee03-4ade-8ad2-bd8402a34405",
   "metadata": {},
   "outputs": [],
   "source": [
    "def scrape(self):\n",
    "        r = urllib.request.urlopen(self.site)\n",
    "        html = r.read()\n",
    "        parser = \"html.parser\"\n",
    "        sp = BeautifulSoup(html,parser)"
   ]
  },
  {
   "cell_type": "code",
   "execution_count": null,
   "id": "ea9e3a8c-d573-4bd8-be13-a7ad3d15a6c9",
   "metadata": {},
   "outputs": [],
   "source": [
    "pass \"a\" and the method will return all the URLs the website is linked to in the HTML"
   ]
  },
  {
   "cell_type": "code",
   "execution_count": 4,
   "id": "69e1d750-8c19-41a9-8270-bf2476b6190e",
   "metadata": {},
   "outputs": [],
   "source": [
    "    def scrape(self):\n",
    "        r = urllib.request.urlopen(self.site)\n",
    "        html = r.read()\n",
    "        parser = \"html.parser\"\n",
    "        sp = BeautifulSoup(html,parser)\n",
    "        for tag in sp.find_all(\"a\"):\n",
    "            url = tag.get(\"href\")\n",
    "            if url is None:\n",
    "                continue\n",
    "            if \"articles\" in url:\n",
    "                print(\"\\n\" + url)"
   ]
  },
  {
   "cell_type": "code",
   "execution_count": null,
   "id": "2315e0c0-1bcf-4f24-ad60-1845ff13f143",
   "metadata": {},
   "outputs": [],
   "source": [
    "calling the get method and passing “href” as a parameter\n",
    "verify that the URL variable contains data\n",
    "if it contains the string “articles”  and then print."
   ]
  },
  {
   "cell_type": "code",
   "execution_count": 5,
   "id": "7047e00a-25a1-4752-96f6-4a984f0bb67c",
   "metadata": {},
   "outputs": [
    {
     "name": "stdout",
     "output_type": "stream",
     "text": [
      "\n",
      "./articles/CAIiEMdF8KNTqdKFpv7wnVfkpv4qFggEKg4IACoGCAowqKNmMKjdCjDXnB0?hl=en-CA&gl=CA&ceid=CA%3Aen\n",
      "\n",
      "./articles/CAIiEMdF8KNTqdKFpv7wnVfkpv4qFggEKg4IACoGCAowqKNmMKjdCjDXnB0?hl=en-CA&gl=CA&ceid=CA%3Aen\n",
      "\n",
      "./articles/CAIiEMdF8KNTqdKFpv7wnVfkpv4qFggEKg4IACoGCAowqKNmMKjdCjDXnB0?hl=en-CA&gl=CA&ceid=CA%3Aen\n",
      "\n",
      "./articles/CBMimwFodHRwczovL3d3dy5jcDI0LmNvbS9uZXdzL3RvcC1kb2Mtc2F5cy1vbWljcm9uLW1heS1iZWNvbWUtZG9taW5hbnQtdmFyaWFudC1zb29uLWFzLW9udC1yZXBvcnRzLW1vcmUtdGhhbi0xLTQwMC1uZXctY292aWQtMTktY2FzZXMtdG9kYXktMTEtZGVhdGhzLTEuNTcwMjA0NtIBAA?hl=en-CA&gl=CA&ceid=CA%3Aen\n",
      "\n",
      "./articles/CBMimwFodHRwczovL3d3dy5jcDI0LmNvbS9uZXdzL3RvcC1kb2Mtc2F5cy1vbWljcm9uLW1heS1iZWNvbWUtZG9taW5hbnQtdmFyaWFudC1zb29uLWFzLW9udC1yZXBvcnRzLW1vcmUtdGhhbi0xLTQwMC1uZXctY292aWQtMTktY2FzZXMtdG9kYXktMTEtZGVhdGhzLTEuNTcwMjA0NtIBAA?hl=en-CA&gl=CA&ceid=CA%3Aen\n",
      "\n",
      "./articles/CCAiC09GNFg4enA2UzVBmAEB?hl=en-CA&gl=CA&ceid=CA%3Aen\n",
      "\n",
      "./articles/CCAiC09GNFg4enA2UzVBmAEB?hl=en-CA&gl=CA&ceid=CA%3Aen\n",
      "\n",
      "./articles/CAIiEL1cjfOd6BNY1rundaweVIIqGQgEKhAIACoHCAow6f-ICzDjj4gDMJTFnwY?hl=en-CA&gl=CA&ceid=CA%3Aen\n",
      "\n",
      "./articles/CAIiEL1cjfOd6BNY1rundaweVIIqGQgEKhAIACoHCAow6f-ICzDjj4gDMJTFnwY?hl=en-CA&gl=CA&ceid=CA%3Aen\n",
      "\n",
      "./articles/CCAiC00xSDJwVnZVV1JRmAEB?hl=en-CA&gl=CA&ceid=CA%3Aen\n",
      "\n",
      "./articles/CCAiC00xSDJwVnZVV1JRmAEB?hl=en-CA&gl=CA&ceid=CA%3Aen\n",
      "\n",
      "./articles/CAIiEMXGUZxcRvqfTE8VXMUFB8MqGQgEKhAIACoHCAowqeP_CjDdg_oCMNTh6QU?hl=en-CA&gl=CA&ceid=CA%3Aen\n",
      "\n",
      "./articles/CAIiEMXGUZxcRvqfTE8VXMUFB8MqGQgEKhAIACoHCAowqeP_CjDdg_oCMNTh6QU?hl=en-CA&gl=CA&ceid=CA%3Aen\n",
      "\n",
      "./articles/CAIiEMXGUZxcRvqfTE8VXMUFB8MqGQgEKhAIACoHCAowqeP_CjDdg_oCMNTh6QU?hl=en-CA&gl=CA&ceid=CA%3Aen\n",
      "\n",
      "./articles/CBMiaGh0dHBzOi8vd3d3LmNiYy5jYS9uZXdzL2NhbmFkYS9tb250cmVhbC9mZWRlcmFsLXBvbGl0aWNpYW5zLXJlYWN0LXJlbW92YWwtcXVlYmVjLXRlYWNoZXItaGlqYWItMS42MjgwNzE50gEgaHR0cHM6Ly93d3cuY2JjLmNhL2FtcC8xLjYyODA3MTk?hl=en-CA&gl=CA&ceid=CA%3Aen\n",
      "\n",
      "./articles/CBMiaGh0dHBzOi8vd3d3LmNiYy5jYS9uZXdzL2NhbmFkYS9tb250cmVhbC9mZWRlcmFsLXBvbGl0aWNpYW5zLXJlYWN0LXJlbW92YWwtcXVlYmVjLXRlYWNoZXItaGlqYWItMS42MjgwNzE50gEgaHR0cHM6Ly93d3cuY2JjLmNhL2FtcC8xLjYyODA3MTk?hl=en-CA&gl=CA&ceid=CA%3Aen\n",
      "\n",
      "./articles/CCAiC3R3eUdzd1FpTW1zmAEB?hl=en-CA&gl=CA&ceid=CA%3Aen\n",
      "\n",
      "./articles/CCAiC3R3eUdzd1FpTW1zmAEB?hl=en-CA&gl=CA&ceid=CA%3Aen\n",
      "\n",
      "./articles/CBMic2h0dHBzOi8vbmF0aW9uYWxwb3N0LmNvbS9vcGluaW9uL2pvaG4taXZpc29uLXBvbGl0aWNpYW5zLXR1cm4tYmxpbmQtZXllLXRvLXN0YXRlLXNwb25zb3JlZC1kaXNjcmltaW5hdGlvbi1pbi1xdWViZWPSAaEBaHR0cHM6Ly9uYXRpb25hbHBvc3QuY29tL29waW5pb24vam9obi1pdmlzb24tcG9saXRpY2lhbnMtdHVybi1ibGluZC1leWUtdG8tc3RhdGUtc3BvbnNvcmVkLWRpc2NyaW1pbmF0aW9uLWluLXF1ZWJlYy93Y20vZGJkOWNmNGYtNWUwNi00YjJkLWJhYWEtOWE3MjlkYTQ0YmIzL2FtcC8?hl=en-CA&gl=CA&ceid=CA%3Aen\n",
      "\n",
      "./articles/CBMic2h0dHBzOi8vbmF0aW9uYWxwb3N0LmNvbS9vcGluaW9uL2pvaG4taXZpc29uLXBvbGl0aWNpYW5zLXR1cm4tYmxpbmQtZXllLXRvLXN0YXRlLXNwb25zb3JlZC1kaXNjcmltaW5hdGlvbi1pbi1xdWViZWPSAaEBaHR0cHM6Ly9uYXRpb25hbHBvc3QuY29tL29waW5pb24vam9obi1pdmlzb24tcG9saXRpY2lhbnMtdHVybi1ibGluZC1leWUtdG8tc3RhdGUtc3BvbnNvcmVkLWRpc2NyaW1pbmF0aW9uLWluLXF1ZWJlYy93Y20vZGJkOWNmNGYtNWUwNi00YjJkLWJhYWEtOWE3MjlkYTQ0YmIzL2FtcC8?hl=en-CA&gl=CA&ceid=CA%3Aen\n",
      "\n",
      "./articles/CBMikQFodHRwczovL3d3dy50aGVzdGFyLmNvbS9wb2xpdGljcy9wb2xpdGljYWwtb3Bpbmlvbi8yMDIxLzEyLzA5L2VyaW4tb3Rvb2xlLWRlbm91bmNlcy1yZWxpZ2lvdXMtcGVyc2VjdXRpb24tYWJyb2FkLXdoeS1jYW50LWhlLWRvLWl0LWluLWNhbmFkYS5odG1s0gGVAWh0dHBzOi8vd3d3LnRoZXN0YXIuY29tL2FtcC9wb2xpdGljcy9wb2xpdGljYWwtb3Bpbmlvbi8yMDIxLzEyLzA5L2VyaW4tb3Rvb2xlLWRlbm91bmNlcy1yZWxpZ2lvdXMtcGVyc2VjdXRpb24tYWJyb2FkLXdoeS1jYW50LWhlLWRvLWl0LWluLWNhbmFkYS5odG1s?hl=en-CA&gl=CA&ceid=CA%3Aen\n",
      "\n",
      "./articles/CBMikQFodHRwczovL3d3dy50aGVzdGFyLmNvbS9wb2xpdGljcy9wb2xpdGljYWwtb3Bpbmlvbi8yMDIxLzEyLzA5L2VyaW4tb3Rvb2xlLWRlbm91bmNlcy1yZWxpZ2lvdXMtcGVyc2VjdXRpb24tYWJyb2FkLXdoeS1jYW50LWhlLWRvLWl0LWluLWNhbmFkYS5odG1s0gGVAWh0dHBzOi8vd3d3LnRoZXN0YXIuY29tL2FtcC9wb2xpdGljcy9wb2xpdGljYWwtb3Bpbmlvbi8yMDIxLzEyLzA5L2VyaW4tb3Rvb2xlLWRlbm91bmNlcy1yZWxpZ2lvdXMtcGVyc2VjdXRpb24tYWJyb2FkLXdoeS1jYW50LWhlLWRvLWl0LWluLWNhbmFkYS5odG1s?hl=en-CA&gl=CA&ceid=CA%3Aen\n",
      "\n",
      "./articles/CAIiEMhEuhuRrTalQGiJOqpoCRAqGQgEKhAIACoHCAow4Zn5CjCu8uACMLTRlgY?hl=en-CA&gl=CA&ceid=CA%3Aen\n",
      "\n",
      "./articles/CAIiEMhEuhuRrTalQGiJOqpoCRAqGQgEKhAIACoHCAow4Zn5CjCu8uACMLTRlgY?hl=en-CA&gl=CA&ceid=CA%3Aen\n",
      "\n",
      "./articles/CAIiEMhEuhuRrTalQGiJOqpoCRAqGQgEKhAIACoHCAow4Zn5CjCu8uACMLTRlgY?hl=en-CA&gl=CA&ceid=CA%3Aen\n",
      "\n",
      "./articles/CAIiECwyfqYrFar_XGBcg_RcvZ4qFggEKg4IACoGCAowqKNmMKjdCjDkkR0?hl=en-CA&gl=CA&ceid=CA%3Aen\n",
      "\n",
      "./articles/CAIiECwyfqYrFar_XGBcg_RcvZ4qFggEKg4IACoGCAowqKNmMKjdCjDkkR0?hl=en-CA&gl=CA&ceid=CA%3Aen\n",
      "\n",
      "./articles/CAIiELhThbxbmwzZCltAP57aHXoqGQgEKhAIACoHCAow6f-ICzDjj4gDMJTFnwY?hl=en-CA&gl=CA&ceid=CA%3Aen\n",
      "\n",
      "./articles/CAIiELhThbxbmwzZCltAP57aHXoqGQgEKhAIACoHCAow6f-ICzDjj4gDMJTFnwY?hl=en-CA&gl=CA&ceid=CA%3Aen\n",
      "\n",
      "./articles/CBMicmh0dHBzOi8vbmF0aW9uYWxwb3N0LmNvbS9uZXdzL3BvbGl0aWNzL2ZyZWVsYW5kLXRocmVhdGVucy10cmFkZS1zYW5jdGlvbnMtYWdhaW5zdC11LXMtb3Zlci1lbGVjdHJpYy12ZWhpY2xlLWNyZWRpdNIBoAFodHRwczovL25hdGlvbmFscG9zdC5jb20vbmV3cy9wb2xpdGljcy9mcmVlbGFuZC10aHJlYXRlbnMtdHJhZGUtc2FuY3Rpb25zLWFnYWluc3QtdS1zLW92ZXItZWxlY3RyaWMtdmVoaWNsZS1jcmVkaXQvd2NtLzc3MzZjNzFmLTA4YzYtNGJjMi05ZThhLWMxYTk2YTMxMTY3My9hbXAv?hl=en-CA&gl=CA&ceid=CA%3Aen\n",
      "\n",
      "./articles/CBMicmh0dHBzOi8vbmF0aW9uYWxwb3N0LmNvbS9uZXdzL3BvbGl0aWNzL2ZyZWVsYW5kLXRocmVhdGVucy10cmFkZS1zYW5jdGlvbnMtYWdhaW5zdC11LXMtb3Zlci1lbGVjdHJpYy12ZWhpY2xlLWNyZWRpdNIBoAFodHRwczovL25hdGlvbmFscG9zdC5jb20vbmV3cy9wb2xpdGljcy9mcmVlbGFuZC10aHJlYXRlbnMtdHJhZGUtc2FuY3Rpb25zLWFnYWluc3QtdS1zLW92ZXItZWxlY3RyaWMtdmVoaWNsZS1jcmVkaXQvd2NtLzc3MzZjNzFmLTA4YzYtNGJjMi05ZThhLWMxYTk2YTMxMTY3My9hbXAv?hl=en-CA&gl=CA&ceid=CA%3Aen\n",
      "\n",
      "./articles/CCAiC29YOEs3a08wejZVmAEB?hl=en-CA&gl=CA&ceid=CA%3Aen\n",
      "\n",
      "./articles/CCAiC29YOEs3a08wejZVmAEB?hl=en-CA&gl=CA&ceid=CA%3Aen\n",
      "\n",
      "./articles/CAIiEE-21-eCe9DnUQhDDRfytNkqGQgEKhAIACoHCAowqeP_CjDdg_oCMMTh6QU?hl=en-CA&gl=CA&ceid=CA%3Aen\n",
      "\n",
      "./articles/CAIiEE-21-eCe9DnUQhDDRfytNkqGQgEKhAIACoHCAowqeP_CjDdg_oCMMTh6QU?hl=en-CA&gl=CA&ceid=CA%3Aen\n",
      "\n",
      "./articles/CAIiEE-21-eCe9DnUQhDDRfytNkqGQgEKhAIACoHCAowqeP_CjDdg_oCMMTh6QU?hl=en-CA&gl=CA&ceid=CA%3Aen\n",
      "\n",
      "./articles/CBMiggFodHRwczovL3d3dy5jdHZuZXdzLmNhL3dvcmxkL3Utcy10b3JuYWRvZXMtYW1hem9uLXdhcmVob3VzZS1yb29mLXBhcnRpYWxseS1jb2xsYXBzZXMtYXQtbGVhc3QtdHdvLWtpbGxlZC1hdC1udXJzaW5nLWhvbWUtMS41NzAzNTA20gEA?hl=en-CA&gl=CA&ceid=CA%3Aen\n",
      "\n",
      "./articles/CBMiggFodHRwczovL3d3dy5jdHZuZXdzLmNhL3dvcmxkL3Utcy10b3JuYWRvZXMtYW1hem9uLXdhcmVob3VzZS1yb29mLXBhcnRpYWxseS1jb2xsYXBzZXMtYXQtbGVhc3QtdHdvLWtpbGxlZC1hdC1udXJzaW5nLWhvbWUtMS41NzAzNTA20gEA?hl=en-CA&gl=CA&ceid=CA%3Aen\n",
      "\n",
      "./articles/CAIiEAKm9BRU6PXDW5rD7bVEZ7EqFwgEKg4IACoGCAowl6p7MN-zCTDZ4PsF?hl=en-CA&gl=CA&ceid=CA%3Aen\n",
      "\n",
      "./articles/CAIiEAKm9BRU6PXDW5rD7bVEZ7EqFwgEKg4IACoGCAowl6p7MN-zCTDZ4PsF?hl=en-CA&gl=CA&ceid=CA%3Aen\n",
      "\n",
      "./articles/CCAiC3Z0emVxLXM3LURNmAEB?hl=en-CA&gl=CA&ceid=CA%3Aen\n",
      "\n",
      "./articles/CCAiC3Z0emVxLXM3LURNmAEB?hl=en-CA&gl=CA&ceid=CA%3Aen\n",
      "\n",
      "./articles/CAIiEJ572d3WUS56KejF7T9wfb4qGQgEKhAIACoHCAowzuOICzCZ4ocDMKiaowY?hl=en-CA&gl=CA&ceid=CA%3Aen\n",
      "\n",
      "./articles/CAIiEJ572d3WUS56KejF7T9wfb4qGQgEKhAIACoHCAowzuOICzCZ4ocDMKiaowY?hl=en-CA&gl=CA&ceid=CA%3Aen\n",
      "\n",
      "./articles/CAIiEDcHxf1cHNZcnu5wJjYS9MAqGQgEKhAIACoHCAowq_uJCzDyzZwDMOHIowY?hl=en-CA&gl=CA&ceid=CA%3Aen\n",
      "\n",
      "./articles/CAIiEDcHxf1cHNZcnu5wJjYS9MAqGQgEKhAIACoHCAowq_uJCzDyzZwDMOHIowY?hl=en-CA&gl=CA&ceid=CA%3Aen\n",
      "\n",
      "./articles/CAIiEDcHxf1cHNZcnu5wJjYS9MAqGQgEKhAIACoHCAowq_uJCzDyzZwDMOHIowY?hl=en-CA&gl=CA&ceid=CA%3Aen\n",
      "\n",
      "./articles/CBMinAFodHRwczovL3d3dy5jcDI0LmNvbS9uZXdzL29udGFyaW8tZXhwYW5kaW5nLWJvb3N0ZXItc2hvdHMtYW5kLW1vZGlmeWluZy12YWNjaW5lLXByb29mLXN5c3RlbS1pbi1mYWNlLW9mLXJpc2luZy1jb3ZpZC0xOS1jYXNlcy1hbmQtb21pY3Jvbi1jb25jZXJucy0xLjU3MDE5MjHSAQA?hl=en-CA&gl=CA&ceid=CA%3Aen\n",
      "\n",
      "./articles/CBMinAFodHRwczovL3d3dy5jcDI0LmNvbS9uZXdzL29udGFyaW8tZXhwYW5kaW5nLWJvb3N0ZXItc2hvdHMtYW5kLW1vZGlmeWluZy12YWNjaW5lLXByb29mLXN5c3RlbS1pbi1mYWNlLW9mLXJpc2luZy1jb3ZpZC0xOS1jYXNlcy1hbmQtb21pY3Jvbi1jb25jZXJucy0xLjU3MDE5MjHSAQA?hl=en-CA&gl=CA&ceid=CA%3Aen\n",
      "\n",
      "./articles/CBMiYmh0dHBzOi8vd3d3LmNiYy5jYS9uZXdzL2NhbmFkYS90b3JvbnRvL2NvdmlkLTE5LW9udGFyaW8tZGVjLTEwLTIwMjEtdmFjY2luYXRpb24tbWVhc3VyZXMtMS42MjgwODYw0gEgaHR0cHM6Ly93d3cuY2JjLmNhL2FtcC8xLjYyODA4NjA?hl=en-CA&gl=CA&ceid=CA%3Aen\n",
      "\n",
      "./articles/CBMiYmh0dHBzOi8vd3d3LmNiYy5jYS9uZXdzL2NhbmFkYS90b3JvbnRvL2NvdmlkLTE5LW9udGFyaW8tZGVjLTEwLTIwMjEtdmFjY2luYXRpb24tbWVhc3VyZXMtMS42MjgwODYw0gEgaHR0cHM6Ly93d3cuY2JjLmNhL2FtcC8xLjYyODA4NjA?hl=en-CA&gl=CA&ceid=CA%3Aen\n",
      "\n",
      "./articles/CBMib2h0dHBzOi8vd3d3LnRoZXN0YXIuY29tL29waW5pb24vZWRpdG9yaWFscy8yMDIxLzEyLzA5L3RpbWUtdG8tc3RlcC11cC1vbmNlLWFnYWluLWFuZC1nZXQteW91ci1ib29zdGVyLXNob3QuaHRtbNIBc2h0dHBzOi8vd3d3LnRoZXN0YXIuY29tL2FtcC9vcGluaW9uL2VkaXRvcmlhbHMvMjAyMS8xMi8wOS90aW1lLXRvLXN0ZXAtdXAtb25jZS1hZ2Fpbi1hbmQtZ2V0LXlvdXItYm9vc3Rlci1zaG90Lmh0bWw?hl=en-CA&gl=CA&ceid=CA%3Aen\n",
      "\n",
      "./articles/CBMib2h0dHBzOi8vd3d3LnRoZXN0YXIuY29tL29waW5pb24vZWRpdG9yaWFscy8yMDIxLzEyLzA5L3RpbWUtdG8tc3RlcC11cC1vbmNlLWFnYWluLWFuZC1nZXQteW91ci1ib29zdGVyLXNob3QuaHRtbNIBc2h0dHBzOi8vd3d3LnRoZXN0YXIuY29tL2FtcC9vcGluaW9uL2VkaXRvcmlhbHMvMjAyMS8xMi8wOS90aW1lLXRvLXN0ZXAtdXAtb25jZS1hZ2Fpbi1hbmQtZ2V0LXlvdXItYm9vc3Rlci1zaG90Lmh0bWw?hl=en-CA&gl=CA&ceid=CA%3Aen\n",
      "\n",
      "./articles/CBMiZWh0dHBzOi8vcGVtYmluYXZhbGxleW9ubGluZS5jb20vbG9jYWwvbWFuaXRvYmFucy11cmdlZC10by1nZXQtdGhpcmQtY292aWQtMTktZG9zZS1hcy1zb29uLWFzLWVsaWdpYmxl0gEA?hl=en-CA&gl=CA&ceid=CA%3Aen\n",
      "\n",
      "./articles/CBMiZWh0dHBzOi8vcGVtYmluYXZhbGxleW9ubGluZS5jb20vbG9jYWwvbWFuaXRvYmFucy11cmdlZC10by1nZXQtdGhpcmQtY292aWQtMTktZG9zZS1hcy1zb29uLWFzLWVsaWdpYmxl0gEA?hl=en-CA&gl=CA&ceid=CA%3Aen\n",
      "\n",
      "./articles/CBMiWmh0dHBzOi8vd3d3LmNwMjQuY29tL25ld3MvaGVhdnktcmFpbi1zdHJvbmctd2luZHMtdG8taGl0LXRvcm9udG8tZ3RhLW9uLXNhdHVyZGF5LTEuNTcwMzA5MNIBAA?hl=en-CA&gl=CA&ceid=CA%3Aen\n",
      "\n",
      "./articles/CBMiWmh0dHBzOi8vd3d3LmNwMjQuY29tL25ld3MvaGVhdnktcmFpbi1zdHJvbmctd2luZHMtdG8taGl0LXRvcm9udG8tZ3RhLW9uLXNhdHVyZGF5LTEuNTcwMzA5MNIBAA?hl=en-CA&gl=CA&ceid=CA%3Aen\n",
      "\n",
      "./articles/CBMiWmh0dHBzOi8vd3d3LmNwMjQuY29tL25ld3MvaGVhdnktcmFpbi1zdHJvbmctd2luZHMtdG8taGl0LXRvcm9udG8tZ3RhLW9uLXNhdHVyZGF5LTEuNTcwMzA5MNIBAA?hl=en-CA&gl=CA&ceid=CA%3Aen\n",
      "\n",
      "./articles/CBMiSmh0dHBzOi8vd3d3LmNiYy5jYS9uZXdzL2NhbmFkYS90b3JvbnRvL3Rvcm9udG8tcmFpbi13aW5kLXdhcm5pbmctMS42MjgxODcy0gEgaHR0cHM6Ly93d3cuY2JjLmNhL2FtcC8xLjYyODE4NzI?hl=en-CA&gl=CA&ceid=CA%3Aen\n",
      "\n",
      "./articles/CBMiSmh0dHBzOi8vd3d3LmNiYy5jYS9uZXdzL2NhbmFkYS90b3JvbnRvL3Rvcm9udG8tcmFpbi13aW5kLXdhcm5pbmctMS42MjgxODcy0gEgaHR0cHM6Ly93d3cuY2JjLmNhL2FtcC8xLjYyODE4NzI?hl=en-CA&gl=CA&ceid=CA%3Aen\n",
      "\n",
      "./articles/CBMiaWh0dHBzOi8vYmxhY2tidXJubmV3cy5jb20vc2FybmlhL3Nhcm5pYS1uZXdzLzIwMjEvMTIvMTAvZGVjZW1iZXItdGh1bmRlcnN0b3Jtcy1wb3NzaWJsZS1haGVhZC1jb2xkLWZyb250L9IBAA?hl=en-CA&gl=CA&ceid=CA%3Aen\n",
      "\n",
      "./articles/CBMiaWh0dHBzOi8vYmxhY2tidXJubmV3cy5jb20vc2FybmlhL3Nhcm5pYS1uZXdzLzIwMjEvMTIvMTAvZGVjZW1iZXItdGh1bmRlcnN0b3Jtcy1wb3NzaWJsZS1haGVhZC1jb2xkLWZyb250L9IBAA?hl=en-CA&gl=CA&ceid=CA%3Aen\n",
      "\n",
      "./articles/CBMipAFodHRwczovL3d3dy5pbnNpZGVoYWx0b24uY29tL25ld3Mtc3RvcnkvMTA1MzczNTEtZW52aXJvbm1lbnQtY2FuYWRhLWlzc3Vlcy1yYWluZmFsbC1hbmQtd2luZC13YXJuaW5nLWZvci1vYWt2aWxsZS1hbmQtYnVybGluZ3Rvbi1hbG9uZy13aXRoLW1pbHRvbi1hbmQtaGFsdG9uLWhpbGxzL9IBAA?hl=en-CA&gl=CA&ceid=CA%3Aen\n",
      "\n",
      "./articles/CBMipAFodHRwczovL3d3dy5pbnNpZGVoYWx0b24uY29tL25ld3Mtc3RvcnkvMTA1MzczNTEtZW52aXJvbm1lbnQtY2FuYWRhLWlzc3Vlcy1yYWluZmFsbC1hbmQtd2luZC13YXJuaW5nLWZvci1vYWt2aWxsZS1hbmQtYnVybGluZ3Rvbi1hbG9uZy13aXRoLW1pbHRvbi1hbmQtaGFsdG9uLWhpbGxzL9IBAA?hl=en-CA&gl=CA&ceid=CA%3Aen\n",
      "\n",
      "./articles/CBMiSWh0dHBzOi8vd3d3LmNiYy5jYS9uZXdzL2NhbmFkYS93aW5kc29yL3dlYXRoZXItd2FybmluZ3Mtd2luZHNvci0xLjYyODIxNTbSASBodHRwczovL3d3dy5jYmMuY2EvYW1wLzEuNjI4MjE1Ng?hl=en-CA&gl=CA&ceid=CA%3Aen\n",
      "\n",
      "./articles/CBMiSWh0dHBzOi8vd3d3LmNiYy5jYS9uZXdzL2NhbmFkYS93aW5kc29yL3dlYXRoZXItd2FybmluZ3Mtd2luZHNvci0xLjYyODIxNTbSASBodHRwczovL3d3dy5jYmMuY2EvYW1wLzEuNjI4MjE1Ng?hl=en-CA&gl=CA&ceid=CA%3Aen\n"
     ]
    }
   ],
   "source": [
    "import urllib.request\n",
    "from bs4 import BeautifulSoup\n",
    "\n",
    "\n",
    "class Scraper:\n",
    "    def __init__(self, site):\n",
    "        self.site = site\n",
    "\n",
    "    def scrape(self):\n",
    "        r = urllib.request.urlopen(self.site)\n",
    "        html = r.read()\n",
    "        parser = \"html.parser\"\n",
    "        sp = BeautifulSoup(html,parser)\n",
    "        for tag in sp.find_all(\"a\"):\n",
    "            url = tag.get(\"href\")\n",
    "            if url is None:\n",
    "                continue\n",
    "            if \"articles\" in url:\n",
    "                print(\"\\n\" + url)\n",
    "\n",
    "news = \"https://news.google.com/\"\n",
    "Scraper(news).scrape()"
   ]
  },
  {
   "cell_type": "code",
   "execution_count": null,
   "id": "8c84f900-7d30-42de-b33e-dcdc87e8f32e",
   "metadata": {},
   "outputs": [],
   "source": []
  }
 ],
 "metadata": {
  "kernelspec": {
   "display_name": "Python 3",
   "language": "python",
   "name": "python3"
  },
  "language_info": {
   "codemirror_mode": {
    "name": "ipython",
    "version": 3
   },
   "file_extension": ".py",
   "mimetype": "text/x-python",
   "name": "python",
   "nbconvert_exporter": "python",
   "pygments_lexer": "ipython3",
   "version": "3.8.8"
  }
 },
 "nbformat": 4,
 "nbformat_minor": 5
}
